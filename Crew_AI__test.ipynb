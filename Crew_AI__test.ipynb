{
  "nbformat": 4,
  "nbformat_minor": 0,
  "metadata": {
    "colab": {
      "provenance": [],
      "authorship_tag": "ABX9TyNd5mRt0nRmAHpuFurThDek",
      "include_colab_link": true
    },
    "kernelspec": {
      "name": "python3",
      "display_name": "Python 3"
    },
    "language_info": {
      "name": "python"
    }
  },
  "cells": [
    {
      "cell_type": "markdown",
      "metadata": {
        "id": "view-in-github",
        "colab_type": "text"
      },
      "source": [
        "<a href=\"https://colab.research.google.com/github/talaa/AI_CrewAI/blob/main/Crew_AI__test.ipynb\" target=\"_parent\"><img src=\"https://colab.research.google.com/assets/colab-badge.svg\" alt=\"Open In Colab\"/></a>"
      ]
    },
    {
      "cell_type": "code",
      "source": [
        "!pip install crewai\n",
        "!pip install 'crewai[tools]'"
      ],
      "metadata": {
        "id": "vis03oN9PObD"
      },
      "execution_count": null,
      "outputs": []
    },
    {
      "cell_type": "code",
      "source": [
        "from google.colab import userdata\n",
        "OpenAPIKey=userdata.get('OpenAPIKEY')\n",
        "SearchAPIKey=userdata.get('GoogleSearchAPI')"
      ],
      "metadata": {
        "id": "hR9FPuybjGfn"
      },
      "execution_count": 4,
      "outputs": []
    },
    {
      "cell_type": "code",
      "source": [
        "import os\n",
        "os.environ[\"SERPER_API_KEY\"] = SearchAPIKey # serper.dev API key\n",
        "os.environ[\"OPENAI_API_KEY\"] = OpenAPIKey"
      ],
      "metadata": {
        "id": "_7S3FGe6VQy_"
      },
      "execution_count": 5,
      "outputs": []
    },
    {
      "cell_type": "code",
      "source": [
        "from crewai import Agent\n",
        "from crewai_tools import SerperDevTool\n",
        "from langchain_openai import OpenAI\n",
        "search_tool = SerperDevTool()\n",
        "\n",
        "# Creating a senior researcher agent with memory and verbose mode\n",
        "researcher = Agent(\n",
        "  role='Senior Researcher',\n",
        "  goal='Uncover groundbreaking technologies in {topic}',\n",
        "  verbose=True,\n",
        "  memory=True,\n",
        "  backstory=(\n",
        "    \"Driven by curiosity, you're at the forefront of\"\n",
        "    \"innovation, eager to explore and share knowledge that could change\"\n",
        "    \"the world.\"\n",
        "  ),\n",
        "  tools=[search_tool],\n",
        "  allow_delegation=True,\n",
        "  llm=OpenAI(\n",
        "        temperature=0.8, model_name=\"gpt-3.5-turbo-instruct\"\n",
        "    ),  # It uses langchain.chat_models, default is GPT 3.5\n",
        ")\n",
        "\n",
        "# Creating a writer agent with custom tools and delegation capability\n",
        "writer = Agent(\n",
        "  role='Writer',\n",
        "  goal='Narrate compelling tech stories about {topic}',\n",
        "  verbose=True,\n",
        "  memory=True,\n",
        "  backstory=(\n",
        "    \"With a flair for simplifying complex topics, you craft\"\n",
        "    \"engaging narratives that captivate and educate, bringing new\"\n",
        "    \"discoveries to light in an accessible manner.\"\n",
        "  ),\n",
        "  tools=[search_tool],\n",
        "  allow_delegation=False,\n",
        "  llm=OpenAI(\n",
        "        temperature=0.8,model_name=\"gpt-3.5-turbo-instruct\"\n",
        "    ),  # It uses langchain.chat_models, default is GPT 3.5\n",
        ")"
      ],
      "metadata": {
        "id": "xa3NfaNlVo80"
      },
      "execution_count": 14,
      "outputs": []
    },
    {
      "cell_type": "code",
      "source": [
        "from crewai import Task\n",
        "\n",
        "# Research task\n",
        "research_task = Task(\n",
        "  description=(\n",
        "    \"Identify the next big trend in {topic}.\"\n",
        "    \"Focus on identifying pros and cons and the overall narrative.\"\n",
        "    \"Your final report should clearly articulate the key points\"\n",
        "    \"its market opportunities, and potential risks.\"\n",
        "  ),\n",
        "  expected_output='A comprehensive 3 paragraphs long report on the latest AI trends.',\n",
        "  tools=[search_tool],\n",
        "  agent=researcher,\n",
        ")\n",
        "\n",
        "# Writing task with language model configuration\n",
        "write_task = Task(\n",
        "  description=(\n",
        "    \"Compose an insightful article on {topic}.\"\n",
        "    \"Focus on the latest trends and how it's impacting the industry.\"\n",
        "    \"This article should be easy to understand, engaging, and positive.\"\n",
        "  ),\n",
        "  expected_output='A 4 paragraph article on {topic} advancements formatted as markdown.',\n",
        "  tools=[search_tool],\n",
        "  agent=writer,\n",
        "  async_execution=False,\n",
        "  output_file='new-blog-post.md'  # Example of output customization\n",
        ")"
      ],
      "metadata": {
        "id": "tBm1pnSvV0cA"
      },
      "execution_count": 15,
      "outputs": []
    },
    {
      "cell_type": "code",
      "source": [
        "from crewai import Crew, Process\n",
        "\n",
        "# Forming the tech-focused crew with enhanced configurations\n",
        "crew = Crew(\n",
        "  agents=[researcher, writer],\n",
        "  tasks=[research_task, write_task],\n",
        "  process=Process.sequential  # Optional: Sequential task execution is default\n",
        ")"
      ],
      "metadata": {
        "id": "RpCCpEVMV5aw"
      },
      "execution_count": 16,
      "outputs": []
    },
    {
      "cell_type": "code",
      "source": [
        "# Starting the task execution process with enhanced feedback\n",
        "result = crew.kickoff(inputs={'topic': 'The future using Agentic AI'})\n",
        "print(result)"
      ],
      "metadata": {
        "id": "fEumQqz9V-eC"
      },
      "execution_count": null,
      "outputs": []
    }
  ]
}